{
 "cells": [
  {
   "cell_type": "markdown",
   "metadata": {},
   "source": [
    "First we need to import our data. The data is stored in idx3-ubyte files. Thank you [Siladittya Manna](https://medium.com/@mannasiladittya/converting-mnist-data-in-idx-format-to-python-numpy-array-5cb9126f99f1) for the information on wrangling this data. The format for the image files is shown below.\n",
    "\n",
    "|[offset] | [type] | [value] | [description]|\n",
    "|------|------|------|------|\n",
    "| 0000 | 32 bit integer | 0x00000803(2051)| magic number|\n",
    "| 0004 | 32 bit integer | 60000 | number of images |\n",
    "| 0008 | 32 bit integer | 28 | number of rows|\n",
    "| 0012 | 32 bit integer | 28 | number of columns| \n",
    "| 0016 | unsigned byte  | ?? | pixel |\n",
    "| 0017 | unsigned byte  | ?? | pixel |\n",
    "\n",
    "The format for the label files is shown below.\n",
    "\n",
    "|[offset] | [type] | [value] | [description]|\n",
    "|------|------|------|------|\n",
    "| 0000 | 32 bit integer | 0x00000803(2051)| magic number|\n",
    "| 0004 | 32 bit integer | 60000 | number of items |\n",
    "| 0016 | unsigned byte  | ?? | pixel |\n",
    "| 0017 | unsigned byte  | ?? | pixel |"
   ]
  },
  {
   "cell_type": "code",
   "execution_count": 32,
   "metadata": {},
   "outputs": [],
   "source": [
    "import gzip\n",
    "import numpy as np\n",
    "import struct as st\n",
    "\n",
    "filename = {'images' : 'data/train-images-idx3-ubyte' ,'labels' : 'data/train-labels-idx1-ubyte'}\n",
    "\n",
    "#Open the images IDX file in readable binary mode.\n",
    "with open(filename['images'],'rb') as train_imagesfile:\n",
    "    train_imagesfile.seek(0)\n",
    "    # Read the magic number and the dimensions of the image data-set\n",
    "    magic = st.unpack('>4B',train_imagesfile.read(4))\n",
    "    n_img = st.unpack('>I',train_imagesfile.read(4))[0] #num of images\n",
    "    n_rows = st.unpack('>I',train_imagesfile.read(4))[0] #num of rows\n",
    "    n_col = st.unpack('>I',train_imagesfile.read(4))[0] #num of column\n",
    "    \n",
    "    # read image data into images_array\n",
    "    nBytesTotal = n_img*n_rows*n_col*1 #since each pixel data is 1 byte\n",
    "    train_images_array = 255 - np.asarray(st.unpack('>'+'B'*nBytesTotal,train_imagesfile.read(nBytesTotal))).reshape((n_img,n_rows,n_col))"
   ]
  },
  {
   "cell_type": "code",
   "execution_count": 33,
   "metadata": {},
   "outputs": [],
   "source": [
    "with open(filename['labels'],'rb') as train_labels_file:\n",
    "    train_labels_file.seek(0)\n",
    "    # Read the magic number and the dimensions of the image data-set\n",
    "    magic = st.unpack('>4B',train_labels_file.read(4))\n",
    "    n_img = st.unpack('>I',train_labels_file.read(4))[0] #num of images\n",
    "\n",
    "    # read label data into label array\n",
    "    nBytesTotal = n_img*1 #since each label is 1 byte\n",
    "    train_labels_array = np.asarray(st.unpack('>'+'B'*nBytesTotal,train_labels_file.read(nBytesTotal))).reshape((n_img,1))"
   ]
  },
  {
   "cell_type": "markdown",
   "metadata": {},
   "source": [
    "Let us see how our numbers look"
   ]
  },
  {
   "cell_type": "code",
   "execution_count": 35,
   "metadata": {},
   "outputs": [
    {
     "data": {
      "image/png": "[encoded data removed]",
      "text/plain": [
       "<Figure size 432x288 with 1 Axes>"
      ]
     },
     "metadata": {
      "needs_background": "light"
     },
     "output_type": "display_data"
    }
   ],
   "source": [
    "import matplotlib.pyplot as plt\n",
    "import time\n",
    "from IPython.display import clear_output\n",
    "\n",
    "for image in train_images_array:\n",
    "    # Plot\n",
    "    plt.imshow(image, cmap='gray')\n",
    "    plt.show()\n",
    "    time.sleep(2)\n",
    "    break # I only want to see one for now. comment to loop through entire training set \n",
    "    clear_output()"
   ]
  },
  {
   "cell_type": "code",
   "execution_count": null,
   "metadata": {},
   "outputs": [],
   "source": []
  },
  {
   "cell_type": "code",
   "execution_count": null,
   "metadata": {},
   "outputs": [],
   "source": []
  }
 ],
 "metadata": {
  "kernelspec": {
   "display_name": "Python 3",
   "language": "python",
   "name": "python3"
  },
  "language_info": {
   "codemirror_mode": {
    "name": "ipython",
    "version": 3
   },
   "file_extension": ".py",
   "mimetype": "text/x-python",
   "name": "python",
   "nbconvert_exporter": "python",
   "pygments_lexer": "ipython3",
   "version": "3.6.1"
  }
 },
 "nbformat": 4,
 "nbformat_minor": 2
}
